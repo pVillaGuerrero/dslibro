{
  "nbformat": 4,
  "nbformat_minor": 0,
  "metadata": {
    "colab": {
      "name": "2. Manipulación de imagenes.ipynb",
      "provenance": [],
      "collapsed_sections": [],
      "include_colab_link": true
    },
    "kernelspec": {
      "name": "python3",
      "display_name": "Python 3"
    }
  },
  "cells": [
    {
      "cell_type": "markdown",
      "metadata": {
        "id": "view-in-github",
        "colab_type": "text"
      },
      "source": [
        "<a href=\"https://colab.research.google.com/github/pVillaGuerrero/dslibro/blob/master/2_Manipulaci%C3%B3n_de_imagenes.ipynb\" target=\"_parent\"><img src=\"https://colab.research.google.com/assets/colab-badge.svg\" alt=\"Open In Colab\"/></a>"
      ]
    },
    {
      "cell_type": "markdown",
      "metadata": {
        "id": "ssjKkBC-x_5-"
      },
      "source": [
        "# Introduccion de Numpy"
      ]
    },
    {
      "cell_type": "code",
      "metadata": {
        "id": "deiDUiwHzpW0"
      },
      "source": [
        "import numpy as np"
      ],
      "execution_count": null,
      "outputs": []
    },
    {
      "cell_type": "code",
      "metadata": {
        "id": "4jEY7D62wx2u"
      },
      "source": [
        "### Arrays creados apartir de listas ###\n",
        "print([2,3,4,5])\n",
        "a = np.array([2,3,4,5])\n",
        "print(a)\n",
        "\n",
        "b = np.array([ [2,3,5] , [6,9,7] ])\n",
        "c = np.array([ [ [2,3,5] , [6,9,7] ] , [ [1,1,7] , [8,9,7] ]  ])\n",
        "print('\\n')\n",
        "print(b)\n",
        "print('\\n')\n",
        "print(c)"
      ],
      "execution_count": null,
      "outputs": []
    },
    {
      "cell_type": "code",
      "source": [
        "# Arrays VS Listas\n",
        "\n",
        "x=[1,2,3.2,2] ###       string > flot > int\n",
        "print(x)\n",
        "x_cont = []\n",
        "for i in x:\n",
        "  x_cont.append(i+2)\n",
        "\n",
        "print(x_cont)\n",
        "print(\"\\n\")\n",
        "x1=np.array(x)\n",
        "print( x1 ) # Caracteristica importante : Se le conoce como operacion punto a punto"
      ],
      "metadata": {
        "id": "5n0LmBpSobkU"
      },
      "execution_count": null,
      "outputs": []
    },
    {
      "cell_type": "code",
      "metadata": {
        "id": "7tXlt8aPh6_N"
      },
      "source": [
        "#### Estructuras de datos\n",
        "# - listas\n",
        "# - tuplas\n",
        "# - diccinarios\n",
        "# - string\n",
        "# - arrays\n",
        "\n",
        "# Arreglo de Numpy:Es una estructura de datos homogenea.\n",
        "# Lista : Es una estructura de datos heterogena.\n",
        "\n",
        "\n",
        "# Bool < int < float < complejo < string\n",
        "\n",
        "x = [ 1 , 'hola' , 2+5j , True ]\n",
        "print(x)\n",
        "\n",
        "x_np = np.array(x)\n",
        "\n",
        "print(x_np)"
      ],
      "execution_count": null,
      "outputs": []
    },
    {
      "cell_type": "code",
      "metadata": {
        "id": "EQ8C8Gx9LMqN"
      },
      "source": [
        "a = [ 2 , 4 , 8 , 9 ,10 ,12 ,13 ,6]\n",
        "a = np.array(a)\n",
        "print( a[0] )\n",
        "print( a[-2] )\n",
        "print( a[1:4])\n",
        "print( a[:4])\n",
        "print( a[1:])\n",
        "print( a[1:-1])\n",
        "print( a[1:7:2])\n",
        "print( a[::-1] )"
      ],
      "execution_count": null,
      "outputs": []
    },
    {
      "cell_type": "code",
      "metadata": {
        "id": "fDkrkY0bNntO"
      },
      "source": [
        "### Indexacion con booleanos ###\n",
        "\n",
        "a = np.linspace(0 , 1.1 , 12)\n",
        "\n",
        "print(a)\n",
        "print( a > 0.5 )\n",
        "print( a[ a > 0.5] )"
      ],
      "execution_count": null,
      "outputs": []
    },
    {
      "cell_type": "markdown",
      "metadata": {
        "id": "h6Oa2aOkV-1u"
      },
      "source": [
        "*  Calcular la varianza del siguiente conjuntos de datos $ X=[4,5,6,7,9,\n",
        "10,7,9,1,3] $. Donde la varianza se define por:\n",
        "\n",
        "\\begin{equation}\n",
        "Var(X)=\\frac{{\\sum_{i=1}^m}(x_i-prom(x))^2}{m}\n",
        "\\end{equation}"
      ]
    },
    {
      "cell_type": "code",
      "metadata": {
        "id": "xhvHDmKGVwUk",
        "colab": {
          "base_uri": "https://localhost:8080/"
        },
        "outputId": "1ec30ed0-a856-4782-cd95-3c1919ddf804"
      },
      "source": [
        "x = [ 4,5,6,7,9,10,7,9,1,3]\n",
        "x1 = np.array(x)\n",
        "prom = np.mean(x1)\n",
        "\n",
        "m = np.shape(x1)\n",
        "\n",
        "\n",
        "# matriz - numero\n",
        "\n",
        "\n",
        "var = np.sum( (x1-prom)**2 )/m[0]\n",
        "print(m)\n",
        "print(m[0])\n",
        "#print(x1)\n",
        "#print(prom)\n",
        "\n",
        "print('var :' , var )"
      ],
      "execution_count": null,
      "outputs": [
        {
          "output_type": "stream",
          "name": "stdout",
          "text": [
            "(10,)\n",
            "10\n",
            "var : 7.489999999999999\n"
          ]
        }
      ]
    },
    {
      "cell_type": "markdown",
      "source": [
        "# Introduccion a Matplotlib"
      ],
      "metadata": {
        "id": "2csejuVLpCsc"
      }
    },
    {
      "cell_type": "code",
      "source": [
        "import matplotlib.pyplot as plt\n",
        "import numpy as np"
      ],
      "metadata": {
        "id": "0DSZLGdVpFml"
      },
      "execution_count": null,
      "outputs": []
    },
    {
      "cell_type": "code",
      "source": [
        "x = np.linspace(-5,2,10)\n",
        "y = x**3+5*x**2+10\n",
        "\n",
        "print(np.shape(x))\n",
        "print(np.shape(y))\n",
        "\n",
        "plt.figure(1)\n",
        "plt.plot(x,y)"
      ],
      "metadata": {
        "id": "_EOb-tS_qIrr"
      },
      "execution_count": null,
      "outputs": []
    },
    {
      "cell_type": "code",
      "source": [
        "x = np.linspace(-5,2,10)\n",
        "y = x**3+5*x**2+10\n",
        "print(y)\n",
        "\n",
        "plt.figure(1)\n",
        "plt.plot(y)"
      ],
      "metadata": {
        "id": "om03duSNqKcp"
      },
      "execution_count": null,
      "outputs": []
    },
    {
      "cell_type": "code",
      "source": [
        "x = np.linspace(-5,2,100)\n",
        "y = x**3+5*x**2+10\n",
        "\n",
        "plt.figure(1)\n",
        "plt.fill_between(x,y-10,y+10,color='k',alpha=0.2)\n",
        "plt.plot(x,y,color='r')\n",
        "plt.plot(x,y-5,color='g')\n",
        "plt.plot(x,y-3,color='g')\n",
        "plt.show()"
      ],
      "metadata": {
        "id": "eWr21vQ4qSFm"
      },
      "execution_count": null,
      "outputs": []
    },
    {
      "cell_type": "code",
      "source": [
        "x = np.linspace(-5, 2, 100)\n",
        "y1 = x**3 + 5*x**2 + 10\n",
        "y2 = x**3 + 4*x**2 + 15\n",
        "y3 = x**3 + 3*x**2 + 12\n",
        "y4 = x**3 + 6*x**2 + 2\n",
        "\n",
        "plt.figure(2,figsize=(7,7),facecolor=\"#e1e1e1\")\n",
        "\n",
        "plt.title(\"Grafica de Funciones Polinomiales\", fontsize=15, family=\"fantasy\")\n",
        "plt.text(-2, -30, \"$f_1(x)=x^3+5x^2+10$\"+\" Hola\", fontsize=12, family=\"serif\",rotation=90)\n",
        "plt.text(-2, -30, \"$f_2(x)=x^3+4x^2+15$\"+\" Hola\", fontsize=12, family=\"sans-serif\",rotation=60)\n",
        "plt.text(-2, -30, \"$f_3(x)=x^3+3x^2+12$\"+\" Hola\", fontsize=12, family=\"fantasy\",rotation=30)\n",
        "plt.text(-2, -30, \"$f_4(x)=x^3+6x^2+2$\"+\" Hola\", fontsize=12, family=\"fantasy\",rotation=0)\n",
        "plt.plot(x, y1, color=\"b\", label=\"$y_1(x)$\")\n",
        "plt.plot(x, y2, color=\"r\", label=\"$y_2(x)$\")\n",
        "plt.plot(x, y3, color=\"k\", label=\"$y_3(x)$\")\n",
        "plt.plot(x, y4, color=\"g\", label=\"$y_4(x)$\")\n",
        "plt.grid(color=\"red\", which=\"major\", linestyle='--',linewidth=0.2)\n",
        "plt.show()"
      ],
      "metadata": {
        "id": "p1UT2bwbqa--"
      },
      "execution_count": null,
      "outputs": []
    },
    {
      "cell_type": "markdown",
      "source": [
        "* Elaborar una grafica para ver la variaciones de $\\sigma$  en una campana gaussiana. Elegir $\\mu = 0.0$\n",
        "\n",
        "\\begin{equation}\n",
        "f(x)=\\frac{1}{\\sigma\\sqrt{2\\pi}}e^{-\\frac{1}{2}(\\frac{x-\\mu}{\\sigma})^2}\n",
        "\\end{equation}"
      ],
      "metadata": {
        "id": "vpv1LvuKqjOU"
      }
    },
    {
      "cell_type": "code",
      "source": [
        "sigma = [ 0.5 , 1.0 , 0.8 , 1.5 , 1.2 ,10.0]\n",
        "colores = ['#1f77b4', '#ff7f0e', '#2ca02c', '#d62728', '#9467bd', '#8c564b', '#e377c2', '#7f7f7f', '#bcbd22', '#17becf']"
      ],
      "metadata": {
        "id": "s2dfeNRWqlRM"
      },
      "execution_count": null,
      "outputs": []
    },
    {
      "cell_type": "code",
      "source": [
        "def FuncionGauss(x,mu,sigma):\n",
        "  y = (1/(pow(2*3.14,0.5)*sigma))*np.exp(-0.5*pow((x-mu)/sigma,2))\n",
        "  return y\n",
        "\n",
        "x = np.linspace(-2, 2, 100)\n",
        "plt.figure(1,figsize=(6,6),facecolor=\"#e1e1e1\")\n",
        "colores = ['#1f77b4', '#ff7f0e', '#2ca02c', '#d62728', '#9467bd', '#8c564b', '#e377c2', '#7f7f7f', '#bcbd22', '#17becf']\n",
        "\n",
        "for i in range(1,10):\n",
        "  y = FuncionGauss(x,0,0.3*i)\n",
        "  plt.plot(x, y, color=colores[i], label=\"$y_{\"+str(i)+\"}(x)$\")\n",
        "  plt.xlabel(\"x\")\n",
        "  plt.ylabel(\"y\")\n",
        "  plt.legend()"
      ],
      "metadata": {
        "id": "c1pDokaCqn9Z"
      },
      "execution_count": null,
      "outputs": []
    },
    {
      "cell_type": "markdown",
      "source": [
        "# Manipulacion de imagenes"
      ],
      "metadata": {
        "id": "1c8KZcP_q0wf"
      }
    },
    {
      "cell_type": "code",
      "source": [
        "from google.colab import files\n",
        "uploaded = files.upload()"
      ],
      "metadata": {
        "id": "1qEoTUlSq5FU"
      },
      "execution_count": null,
      "outputs": []
    },
    {
      "cell_type": "code",
      "source": [
        "import numpy as np\n",
        "import matplotlib.image as mpimg\n",
        "import matplotlib.pyplot as plt"
      ],
      "metadata": {
        "id": "OKjZY-7VrFOZ"
      },
      "execution_count": null,
      "outputs": []
    },
    {
      "cell_type": "code",
      "source": [
        "a = mpimg.imread('im0002.tif')\n",
        "\n",
        "print(type(a))"
      ],
      "metadata": {
        "id": "UIHiD8AVrJbu"
      },
      "execution_count": null,
      "outputs": []
    },
    {
      "cell_type": "code",
      "source": [
        "a = mpimg.imread('im0002.tif')\n",
        "\n",
        "plt.figure(1,figsize=(20,24))\n",
        "plt.subplot(1,4,1)\n",
        "plt.imshow(a,cmap='gray')\n",
        "plt.title('Imagen de entrada')\n",
        "\n",
        "plt.subplot(1, 4, 2)\n",
        "plt.imshow(a[:,:,0],cmap='gray')\n",
        "plt.title('Banda R')\n",
        "\n",
        "plt.subplot(1, 4, 3)\n",
        "plt.imshow(a[:,:,1],cmap='gray')\n",
        "plt.title('Banda G')\n",
        "\n",
        "plt.subplot(1, 4, 4)\n",
        "plt.imshow(a[:,:,2],cmap='gray')\n",
        "plt.title('Banda B')"
      ],
      "metadata": {
        "id": "JNmcygCCrMud"
      },
      "execution_count": null,
      "outputs": []
    },
    {
      "cell_type": "code",
      "source": [
        "a = mpimg.imread('machupicchu.jpg')\n",
        "b = mpimg.imread('machupicchu.jpg')[0:10,0:10,0]\n",
        "\n",
        "plt.figure(1,figsize=(8,10))\n",
        "plt.subplot(1, 2, 1)\n",
        "plt.imshow(a)\n",
        "plt.title('Imagen de entrada')\n",
        "\n",
        "plt.subplot(1, 2, 2)\n",
        "plt.imshow(b,cmap='gray')\n",
        "plt.title('10 x 10')\n",
        "\n",
        "print('Matriz b = ')\n",
        "print(b)"
      ],
      "metadata": {
        "id": "l2qLFxIhrXL0"
      },
      "execution_count": null,
      "outputs": []
    },
    {
      "cell_type": "code",
      "source": [
        "a = mpimg.imread('keyb.tif')\n",
        "Dim = np.shape(a) # a.shape() ### ( 200 , 300 )\n",
        "\n",
        "a_recorte_1 = a[ 0:int(Dim[0]/2) , 0:int(Dim[1]/2) ] # a[ Filas , columnas , profudidad]\n",
        "\n",
        "plt.figure(1,figsize=(8,10))\n",
        "plt.subplot(1, 2, 1)\n",
        "plt.imshow(a,cmap='gray')\n",
        "#plt.title('Imagen de entrada')\n",
        "\n",
        "plt.subplot(1, 2, 2)\n",
        "plt.imshow(a_recorte_1,cmap='gray')\n",
        "plt.title('Recorte de la cuarta parte')"
      ],
      "metadata": {
        "id": "tDblQ6yzsAw9"
      },
      "execution_count": null,
      "outputs": []
    },
    {
      "cell_type": "code",
      "source": [
        "#print(a_recorte_1)\n",
        "a_mean_1 = a_recorte_1.mean(0)\n",
        "#print(\"\\n\")\n",
        "#print(a_mean_1)\n",
        "\n",
        "plt.figure(1,figsize=(8,10))\n",
        "\n",
        "plt.subplot(2, 1, 1)\n",
        "plt.imshow(a_recorte_1,cmap='gray')\n",
        "plt.title('Parte 1')\n",
        "\n",
        "plt.subplot(2, 1, 2)\n",
        "plt.plot(a_mean_1,'r--')\n",
        "plt.title('El valor medio de cada columna')"
      ],
      "metadata": {
        "id": "Z_qt76E_sH8B"
      },
      "execution_count": null,
      "outputs": []
    }
  ]
}